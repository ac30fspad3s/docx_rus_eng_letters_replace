{
 "cells": [
  {
   "cell_type": "code",
   "execution_count": 62,
   "id": "2e3c6c19",
   "metadata": {},
   "outputs": [],
   "source": [
    "import docx\n",
    "\n",
    "doc = docx.Document('example.docx')"
   ]
  },
  {
   "cell_type": "code",
   "execution_count": 63,
   "id": "baaef0c2",
   "metadata": {},
   "outputs": [],
   "source": [
    "\n",
    "text = []\n",
    "for paragraph in doc.paragraphs:\n",
    "    text.append(paragraph.text)\n",
    "#print('\\n'.join(text))"
   ]
  },
  {
   "cell_type": "code",
   "execution_count": 64,
   "id": "d1af2422",
   "metadata": {},
   "outputs": [],
   "source": [
    "for i in range(len(text)):\n",
    "    text[i] = text[i].replace(\"а\", \"a\")\n",
    "    text[i] = text[i].replace(\"с\", \"c\")\n",
    "    text[i] = text[i].replace(\"о\", \"o\")\n",
    "    text[i] = text[i].replace(\"х\", \"x\")"
   ]
  },
  {
   "cell_type": "code",
   "execution_count": 65,
   "id": "16778d89",
   "metadata": {},
   "outputs": [],
   "source": [
    "#print('\\n'.join(text))"
   ]
  },
  {
   "cell_type": "code",
   "execution_count": 61,
   "id": "8b6d6388",
   "metadata": {},
   "outputs": [],
   "source": [
    "new_doc = docx.Document()\n",
    "\n",
    "for i in range(len(text)):\n",
    "    new_doc.add_paragraph(text[i])\n",
    "\n",
    "doc.save('new_doc.docx')"
   ]
  },
  {
   "cell_type": "code",
   "execution_count": null,
   "id": "0be51650",
   "metadata": {},
   "outputs": [],
   "source": []
  }
 ],
 "metadata": {
  "kernelspec": {
   "display_name": "Python 3",
   "language": "python",
   "name": "python3"
  },
  "language_info": {
   "codemirror_mode": {
    "name": "ipython",
    "version": 3
   },
   "file_extension": ".py",
   "mimetype": "text/x-python",
   "name": "python",
   "nbconvert_exporter": "python",
   "pygments_lexer": "ipython3",
   "version": "3.9.4"
  }
 },
 "nbformat": 4,
 "nbformat_minor": 5
}
